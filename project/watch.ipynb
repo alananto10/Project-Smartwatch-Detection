{
 "cells": [
  {
   "cell_type": "code",
   "execution_count": null,
   "id": "152ab605-5393-41df-83c9-06f97064cfbd",
   "metadata": {},
   "outputs": [],
   "source": [
    "from ultralytics import YOLO\n",
    "import cv2\n",
    "\n",
    "\n",
    "# Load your trained YOLOv8 model\n",
    "model = YOLO(\"best.pt\")  # Replace with your model path\n",
    "\n",
    "# Open webcam (0 for default camera)\n",
    "cap = cv2.VideoCapture(0)\n",
    "\n",
    "while cap.isOpened():\n",
    "    ret, frame = cap.read()\n",
    "    if not ret:\n",
    "        break\n",
    "\n",
    "    \n",
    "    results = model.predict(frame, conf=0.55)  \n",
    "\n",
    "    # Draw bounding boxes\n",
    "    frame = results[0].plot()\n",
    "\n",
    "    # Show output\n",
    "    cv2.imshow(\"YOLOv8 Webcam Detection\", frame)\n",
    "\n",
    "    # Press 'q' to exit\n",
    "    if cv2.waitKey(1) & 0xFF == 27:  # 27 is the ASCII code for ESC\n",
    "        break\n",
    "\n",
    "cap.release()\n",
    "cv2.destroyAllWindows()"
   ]
  },
  {
   "cell_type": "code",
   "execution_count": null,
   "id": "f6fe3279-66f4-47d8-9c7a-a67ccf796f31",
   "metadata": {},
   "outputs": [],
   "source": []
  }
 ],
 "metadata": {
  "kernelspec": {
   "display_name": "Python 3 (ipykernel)",
   "language": "python",
   "name": "python3"
  },
  "language_info": {
   "codemirror_mode": {
    "name": "ipython",
    "version": 3
   },
   "file_extension": ".py",
   "mimetype": "text/x-python",
   "name": "python",
   "nbconvert_exporter": "python",
   "pygments_lexer": "ipython3",
   "version": "3.13.1"
  },
  "widgets": {
   "application/vnd.jupyter.widget-state+json": {
    "state": {},
    "version_major": 2,
    "version_minor": 0
   }
  }
 },
 "nbformat": 4,
 "nbformat_minor": 5
}
